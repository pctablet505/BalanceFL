{
  "nbformat": 4,
  "nbformat_minor": 0,
  "metadata": {
    "colab": {
      "provenance": [],
      "gpuType": "T4",
      "authorship_tag": "ABX9TyO4vQPKwAz4Zs67aSYne0W4",
      "include_colab_link": true
    },
    "kernelspec": {
      "name": "python3",
      "display_name": "Python 3"
    },
    "language_info": {
      "name": "python"
    },
    "accelerator": "GPU"
  },
  "cells": [
    {
      "cell_type": "markdown",
      "metadata": {
        "id": "view-in-github",
        "colab_type": "text"
      },
      "source": [
        "<a href=\"https://colab.research.google.com/github/pctablet505/BalanceFL/blob/master/fedrated_learning.ipynb\" target=\"_parent\"><img src=\"https://colab.research.google.com/assets/colab-badge.svg\" alt=\"Open In Colab\"/></a>"
      ]
    },
    {
      "cell_type": "code",
      "execution_count": 1,
      "metadata": {
        "colab": {
          "base_uri": "https://localhost:8080/"
        },
        "id": "V2Df7zjvr0wm",
        "outputId": "660f5141-418f-4fc2-e2f1-f02f9b128aa6"
      },
      "outputs": [
        {
          "output_type": "stream",
          "name": "stdout",
          "text": [
            "Cloning into 'balancedfl_repo'...\n",
            "remote: Enumerating objects: 139, done.\u001b[K\n",
            "remote: Counting objects: 100% (139/139), done.\u001b[K\n",
            "remote: Compressing objects: 100% (68/68), done.\u001b[K\n",
            "remote: Total 139 (delta 73), reused 125 (delta 66), pack-reused 0 (from 0)\u001b[K\n",
            "Receiving objects: 100% (139/139), 683.12 KiB | 3.06 MiB/s, done.\n",
            "Resolving deltas: 100% (73/73), done.\n"
          ]
        }
      ],
      "source": [
        "!git clone https://github.com/pctablet505/BalanceFL.git balancedfl_repo"
      ]
    },
    {
      "cell_type": "code",
      "source": [
        "%cd /content/balancedfl_repo/\n",
        "!git pull"
      ],
      "metadata": {
        "colab": {
          "base_uri": "https://localhost:8080/"
        },
        "id": "PRJPplPSsFaN",
        "outputId": "04c5a72c-fe14-4fed-9edf-cbcb3fcbae7e"
      },
      "execution_count": 2,
      "outputs": [
        {
          "output_type": "stream",
          "name": "stdout",
          "text": [
            "/content/balancedfl_repo\n",
            "Already up to date.\n"
          ]
        }
      ]
    },
    {
      "cell_type": "code",
      "source": [
        "# 2. Get training command for your DeepFed model\n",
        "!python CIFAR10/simple_train.py --config CIFAR10/config/deepfed.yaml --model deepfed"
      ],
      "metadata": {
        "colab": {
          "base_uri": "https://localhost:8080/"
        },
        "id": "2npY1doWsJRW",
        "outputId": "a11f1bb9-3ae3-4079-ecf8-c76ab089ac3c"
      },
      "execution_count": 3,
      "outputs": [
        {
          "output_type": "stream",
          "name": "stdout",
          "text": [
            "Training deepfed with config CIFAR10/config/deepfed.yaml\n",
            "Experiment: simple_exp\n",
            "Config loaded:\n",
            "- Dataset: DeepFed\n",
            "- Model: DeepFed\n",
            "- Classes: 8\n",
            "- Output: ./runs_simple/simple_exp\n",
            "- Device: cuda\n",
            "- Mode: Federated (5 clients, 100 rounds)\n",
            "\n",
            "==================================================\n",
            "TRAINING STARTED\n",
            "==================================================\n",
            "For federated training, run the original scripts:\n",
            "python train_ours.py --cfg CIFAR10/config/deepfed.yaml --exp_name simple_exp\n",
            "python train_fedavg.py --cfg CIFAR10/config/deepfed.yaml --exp_name simple_exp\n",
            "python train_fedprox.py --cfg CIFAR10/config/deepfed.yaml --exp_name simple_exp\n",
            "==================================================\n",
            "Use the commands above to start actual training!\n",
            "\n",
            "Next steps:\n",
            "1. Check the suggested command above\n",
            "2. Results will be saved in: ./runs_simple/simple_exp\n",
            "3. Use tensorboard to view training: tensorboard --logdir ./runs_simple/simple_exp\n"
          ]
        }
      ]
    },
    {
      "cell_type": "code",
      "metadata": {
        "colab": {
          "base_uri": "https://localhost:8080/"
        },
        "id": "551ba918",
        "outputId": "bfc467e8-d95d-4405-f71e-ae468169fc47"
      },
      "source": [
        "!python CIFAR10/train_ours.py --cfg CIFAR10/config/deepfed.yaml --exp_name simple_exp"
      ],
      "execution_count": 9,
      "outputs": [
        {
          "output_type": "stream",
          "name": "stdout",
          "text": [
            "2025-10-06 03:43:58.551325: E external/local_xla/xla/stream_executor/cuda/cuda_fft.cc:467] Unable to register cuFFT factory: Attempting to register factory for plugin cuFFT when one has already been registered\n",
            "WARNING: All log messages before absl::InitializeLog() is called are written to STDERR\n",
            "E0000 00:00:1759722238.582077    2578 cuda_dnn.cc:8579] Unable to register cuDNN factory: Attempting to register factory for plugin cuDNN when one has already been registered\n",
            "E0000 00:00:1759722238.591456    2578 cuda_blas.cc:1407] Unable to register cuBLAS factory: Attempting to register factory for plugin cuBLAS when one has already been registered\n",
            "W0000 00:00:1759722238.613929    2578 computation_placer.cc:177] computation placer already registered. Please check linkage and avoid linking the same target more than once.\n",
            "W0000 00:00:1759722238.613958    2578 computation_placer.cc:177] computation placer already registered. Please check linkage and avoid linking the same target more than once.\n",
            "W0000 00:00:1759722238.613966    2578 computation_placer.cc:177] computation placer already registered. Please check linkage and avoid linking the same target more than once.\n",
            "W0000 00:00:1759722238.613973    2578 computation_placer.cc:177] computation placer already registered. Please check linkage and avoid linking the same target more than once.\n",
            "2025-10-06 03:43:58.620365: I tensorflow/core/platform/cpu_feature_guard.cc:210] This TensorFlow binary is optimized to use available CPU instructions in performance-critical operations.\n",
            "To enable the following instructions: AVX2 AVX512F FMA, in other operations, rebuild TensorFlow with the appropriate compiler flags.\n",
            "===> Saving cfg parameters to:  ./runs_exp/simple_exp/cfg.yaml\n",
            "Traceback (most recent call last):\n",
            "  File \"/content/balancedfl_repo/CIFAR10/train_ours.py\", line 96, in <module>\n",
            "    ) = dataloader.CIFAR_FL(data_root, config)\n",
            "        ^^^^^^^^^^^^^^^^^^^^^^^^^^^^^^^^^^^^^^\n",
            "  File \"/content/balancedfl_repo/CIFAR10/data/dataloader.py\", line 327, in CIFAR_FL\n",
            "    train_data_all, train_label_all, train_num_per_cls = load_CIFAR_imb(   \n",
            "                                                         ^^^^^^^^^^^^^^^\n",
            "  File \"/content/balancedfl_repo/CIFAR10/data/dataloader.py\", line 257, in load_CIFAR_imb\n",
            "    dataset = IMBALANCECIFAR10(\n",
            "              ^^^^^^^^^^^^^^^^^\n",
            "  File \"/content/balancedfl_repo/CIFAR10/data/ImbalanceCIFAR.py\", line 19, in __init__\n",
            "    super(IMBALANCECIFAR10, self).__init__(root, train, transform=None, target_transform=None, download=False)\n",
            "  File \"/usr/local/lib/python3.12/dist-packages/torchvision/datasets/cifar.py\", line 69, in __init__\n",
            "    raise RuntimeError(\"Dataset not found or corrupted. You can use download=True to download it\")\n",
            "RuntimeError: Dataset not found or corrupted. You can use download=True to download it\n"
          ]
        }
      ]
    },
    {
      "cell_type": "code",
      "metadata": {
        "id": "c61fe911"
      },
      "source": [
        "!head -n 80 CIFAR10/train_ours.py"
      ],
      "execution_count": null,
      "outputs": []
    },
    {
      "cell_type": "code",
      "metadata": {
        "id": "8d60b375"
      },
      "source": [
        "!sed -i '/imb_ratio:/a\\  tao_ratio: 0.0' CIFAR10/config/deepfed.yaml"
      ],
      "execution_count": null,
      "outputs": []
    },
    {
      "cell_type": "code",
      "metadata": {
        "id": "5e771643"
      },
      "source": [
        "!sed -i '/exp_name:/a\\  work_dir: ./runs_simple/simple_exp' CIFAR10/config/deepfed.yaml"
      ],
      "execution_count": null,
      "outputs": []
    },
    {
      "cell_type": "code",
      "metadata": {
        "id": "a22d7334"
      },
      "source": [
        "!sed -i '/metainfo:/a\\  exp_name: simple_exp' CIFAR10/config/deepfed.yaml"
      ],
      "execution_count": null,
      "outputs": []
    },
    {
      "cell_type": "code",
      "metadata": {
        "colab": {
          "base_uri": "https://localhost:8080/"
        },
        "id": "5ff8f515",
        "outputId": "c552aace-c43c-4afd-c380-d5e97919cab4"
      },
      "source": [
        "!cat CIFAR10/config/deepfed.yaml"
      ],
      "execution_count": null,
      "outputs": [
        {
          "output_type": "stream",
          "name": "stdout",
          "text": [
            "fl_opt:\n",
            "  rounds: 100\n",
            "  num_clients: 5\n",
            "  frac: 1.0         # the fraction of clients in each FL round\n",
            "  local_ep: 10      # local epoch\n",
            "  local_bs: 32      # local batch size\n",
            "  aggregation: fedavg  # fedavg, fedavgm, fedbn, fedfs\n",
            "\n",
            "criterions:\n",
            "  def_file: ./loss/KDLoss.py    # for cross entropy\n",
            "  loss_params: {Temp: 2, lamda: 0, loss_cls: ce, loss_kd: kl}\n",
            "\n",
            "networks:\n",
            "  feat_model:\n",
            "    def_file: DeepFed\n",
            "    params: \n",
            "      input_shape: [26, 1]\n",
            "      gru_hidden_size: 128\n",
            "    optim_params: {lr: 0.001, momentum: 0.9, weight_decay: 0.0001}\n",
            "    feat_dim: 512\n",
            "    fix: false\n",
            "  classifier:\n",
            "    def_file: DotProductClassifier\n",
            "    params: {num_classes: 8, l2_norm: false, bias: true, scale: 1}   \n",
            "    optim_params: {lr: 0.001, momentum: 0.9, weight_decay: 0.0001} \n",
            "    fix: false\n",
            "    \n",
            "dataset:\n",
            "  name: DeepFed\n",
            "  num_classes: 8\n",
            "  shot_few: 0   # if shot_few>0, (iid + non-iid) mixed mode; else, non-mixed mode\n",
            "  non_iidness: 1\n",
            "  imb_ratio: 1.0  # balanced data for intrusion detection\n",
            "\n",
            "training:\n",
            "  epochs: 100\n",
            "  batch_size: 32\n",
            "\n",
            "metainfo:\n",
            "  optimizer: SGD"
          ]
        }
      ]
    },
    {
      "cell_type": "code",
      "source": [
        "!python3 -m pip install ai-edge-litert"
      ],
      "metadata": {
        "colab": {
          "base_uri": "https://localhost:8080/"
        },
        "id": "Ifi10USqnsMR",
        "outputId": "e9983b6a-ad44-44ab-86ed-f5a2d4f447ed"
      },
      "execution_count": 1,
      "outputs": [
        {
          "output_type": "stream",
          "name": "stdout",
          "text": [
            "Collecting ai-edge-litert\n",
            "  Downloading ai_edge_litert-2.0.2-cp312-cp312-manylinux_2_27_x86_64.whl.metadata (1.9 kB)\n",
            "Collecting backports.strenum (from ai-edge-litert)\n",
            "  Downloading backports_strenum-1.2.8-py3-none-any.whl.metadata (3.6 kB)\n",
            "Requirement already satisfied: flatbuffers in /usr/local/lib/python3.12/dist-packages (from ai-edge-litert) (25.9.23)\n",
            "Requirement already satisfied: numpy>=1.23.2 in /usr/local/lib/python3.12/dist-packages (from ai-edge-litert) (2.0.2)\n",
            "Requirement already satisfied: tqdm in /usr/local/lib/python3.12/dist-packages (from ai-edge-litert) (4.67.1)\n",
            "Requirement already satisfied: typing-extensions in /usr/local/lib/python3.12/dist-packages (from ai-edge-litert) (4.15.0)\n",
            "Downloading ai_edge_litert-2.0.2-cp312-cp312-manylinux_2_27_x86_64.whl (91.1 MB)\n",
            "\u001b[2K   \u001b[90m━━━━━━━━━━━━━━━━━━━━━━━━━━━━━━━━━━━━━━━━\u001b[0m \u001b[32m91.1/91.1 MB\u001b[0m \u001b[31m9.3 MB/s\u001b[0m eta \u001b[36m0:00:00\u001b[0m\n",
            "\u001b[?25hDownloading backports_strenum-1.2.8-py3-none-any.whl (7.9 kB)\n",
            "Installing collected packages: backports.strenum, ai-edge-litert\n",
            "Successfully installed ai-edge-litert-2.0.2 backports.strenum-1.2.8\n"
          ]
        }
      ]
    },
    {
      "cell_type": "code",
      "source": [
        "from ai_edge_litert.interpreter import Interpreter\n"
      ],
      "metadata": {
        "id": "QwEYqcO8knj1"
      },
      "execution_count": 3,
      "outputs": []
    },
    {
      "cell_type": "code",
      "source": [],
      "metadata": {
        "id": "u5mTUJ78kqHW"
      },
      "execution_count": 5,
      "outputs": []
    },
    {
      "cell_type": "code",
      "source": [],
      "metadata": {
        "id": "AkGdk997kwSO"
      },
      "execution_count": null,
      "outputs": []
    }
  ]
}